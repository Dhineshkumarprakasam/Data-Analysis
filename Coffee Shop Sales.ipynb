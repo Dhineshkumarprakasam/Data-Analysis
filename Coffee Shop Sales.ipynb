{
 "cells": [
  {
   "cell_type": "markdown",
   "id": "06d6871f-cb3c-480b-a4e5-d8d4ee913c9d",
   "metadata": {},
   "source": [
    "<h2 align='center'>Coffee Shop Sales EDA</h2>"
   ]
  },
  {
   "cell_type": "markdown",
   "id": "9a41710d-749f-4cb8-8614-42da0e595875",
   "metadata": {},
   "source": [
    "<h3 align='right'>~By: Dhinesh Kumar</h3>"
   ]
  },
  {
   "cell_type": "code",
   "execution_count": 1,
   "id": "af8036eb-a7ae-4b98-8c6b-ccb9cbd32f57",
   "metadata": {},
   "outputs": [],
   "source": [
    "import pandas as pd\n",
    "import numpy as np\n",
    "from matplotlib import pyplot as plt"
   ]
  },
  {
   "cell_type": "code",
   "execution_count": 2,
   "id": "2ebe52fe-73be-4d53-ad75-34dc9db2be24",
   "metadata": {},
   "outputs": [],
   "source": [
    "#Reading coffee shop sales.csv file\n",
    "df=pd.read_csv(r\"Coffee Shop Sales.csv\")"
   ]
  },
  {
   "cell_type": "code",
   "execution_count": 3,
   "id": "388a68ae-3584-40ad-9bfa-507eaa409dbc",
   "metadata": {},
   "outputs": [
    {
     "data": {
      "text/plain": [
       "Index(['transaction_id', 'transaction_date', 'transaction_time',\n",
       "       'transaction_qty', 'store_id', 'store_location', 'product_id',\n",
       "       'unit_price', 'product_category', 'product_type', 'product_detail'],\n",
       "      dtype='object')"
      ]
     },
     "execution_count": 3,
     "metadata": {},
     "output_type": "execute_result"
    }
   ],
   "source": [
    "#displaying all columns in file\n",
    "df.columns"
   ]
  },
  {
   "cell_type": "code",
   "execution_count": 4,
   "id": "55bb529e-56c4-45af-9f3f-ed5b517dcef7",
   "metadata": {},
   "outputs": [],
   "source": [
    "#deleting columns 'transaction_id','product_type','product_detail'.\n",
    "df.drop(['transaction_id','product_type','product_detail'],axis=1,inplace=True)"
   ]
  },
  {
   "cell_type": "code",
   "execution_count": 5,
   "id": "c306fdac-364c-4285-906b-9af45992c4cd",
   "metadata": {},
   "outputs": [
    {
     "name": "stdout",
     "output_type": "stream",
     "text": [
      "<class 'pandas.core.frame.DataFrame'>\n",
      "RangeIndex: 149116 entries, 0 to 149115\n",
      "Data columns (total 8 columns):\n",
      " #   Column            Non-Null Count   Dtype  \n",
      "---  ------            --------------   -----  \n",
      " 0   transaction_date  149116 non-null  object \n",
      " 1   transaction_time  149116 non-null  object \n",
      " 2   transaction_qty   149116 non-null  int64  \n",
      " 3   store_id          149116 non-null  int64  \n",
      " 4   store_location    149116 non-null  object \n",
      " 5   product_id        149116 non-null  int64  \n",
      " 6   unit_price        149116 non-null  float64\n",
      " 7   product_category  149116 non-null  object \n",
      "dtypes: float64(1), int64(3), object(4)\n",
      "memory usage: 9.1+ MB\n"
     ]
    }
   ],
   "source": [
    "df.info()"
   ]
  },
  {
   "cell_type": "code",
   "execution_count": 6,
   "id": "79a916ed-658b-4707-a7b5-18c070a470d6",
   "metadata": {},
   "outputs": [],
   "source": [
    "#creating new column amount\n",
    "df['amount']=df['unit_price']*df['transaction_qty']"
   ]
  },
  {
   "cell_type": "code",
   "execution_count": 7,
   "id": "353c9ea4-d717-4785-8c43-89df22e4d8f4",
   "metadata": {},
   "outputs": [
    {
     "data": {
      "text/html": [
       "<div>\n",
       "<style scoped>\n",
       "    .dataframe tbody tr th:only-of-type {\n",
       "        vertical-align: middle;\n",
       "    }\n",
       "\n",
       "    .dataframe tbody tr th {\n",
       "        vertical-align: top;\n",
       "    }\n",
       "\n",
       "    .dataframe thead th {\n",
       "        text-align: right;\n",
       "    }\n",
       "</style>\n",
       "<table border=\"1\" class=\"dataframe\">\n",
       "  <thead>\n",
       "    <tr style=\"text-align: right;\">\n",
       "      <th></th>\n",
       "      <th>unit_price</th>\n",
       "      <th>amount</th>\n",
       "    </tr>\n",
       "  </thead>\n",
       "  <tbody>\n",
       "    <tr>\n",
       "      <th>count</th>\n",
       "      <td>149116.000000</td>\n",
       "      <td>149116.000000</td>\n",
       "    </tr>\n",
       "    <tr>\n",
       "      <th>mean</th>\n",
       "      <td>3.382219</td>\n",
       "      <td>4.686367</td>\n",
       "    </tr>\n",
       "    <tr>\n",
       "      <th>std</th>\n",
       "      <td>2.658723</td>\n",
       "      <td>4.227099</td>\n",
       "    </tr>\n",
       "    <tr>\n",
       "      <th>min</th>\n",
       "      <td>0.800000</td>\n",
       "      <td>0.800000</td>\n",
       "    </tr>\n",
       "    <tr>\n",
       "      <th>25%</th>\n",
       "      <td>2.500000</td>\n",
       "      <td>3.000000</td>\n",
       "    </tr>\n",
       "    <tr>\n",
       "      <th>50%</th>\n",
       "      <td>3.000000</td>\n",
       "      <td>3.750000</td>\n",
       "    </tr>\n",
       "    <tr>\n",
       "      <th>75%</th>\n",
       "      <td>3.750000</td>\n",
       "      <td>6.000000</td>\n",
       "    </tr>\n",
       "    <tr>\n",
       "      <th>max</th>\n",
       "      <td>45.000000</td>\n",
       "      <td>360.000000</td>\n",
       "    </tr>\n",
       "  </tbody>\n",
       "</table>\n",
       "</div>"
      ],
      "text/plain": [
       "          unit_price         amount\n",
       "count  149116.000000  149116.000000\n",
       "mean        3.382219       4.686367\n",
       "std         2.658723       4.227099\n",
       "min         0.800000       0.800000\n",
       "25%         2.500000       3.000000\n",
       "50%         3.000000       3.750000\n",
       "75%         3.750000       6.000000\n",
       "max        45.000000     360.000000"
      ]
     },
     "execution_count": 7,
     "metadata": {},
     "output_type": "execute_result"
    }
   ],
   "source": [
    "df[['unit_price','amount']].describe()"
   ]
  },
  {
   "cell_type": "code",
   "execution_count": 8,
   "id": "208cf1d2-615e-4f81-b35b-a640fe850108",
   "metadata": {},
   "outputs": [
    {
     "data": {
      "text/html": [
       "<div>\n",
       "<style scoped>\n",
       "    .dataframe tbody tr th:only-of-type {\n",
       "        vertical-align: middle;\n",
       "    }\n",
       "\n",
       "    .dataframe tbody tr th {\n",
       "        vertical-align: top;\n",
       "    }\n",
       "\n",
       "    .dataframe thead th {\n",
       "        text-align: right;\n",
       "    }\n",
       "</style>\n",
       "<table border=\"1\" class=\"dataframe\">\n",
       "  <thead>\n",
       "    <tr style=\"text-align: right;\">\n",
       "      <th></th>\n",
       "      <th>transaction_date</th>\n",
       "      <th>transaction_time</th>\n",
       "      <th>transaction_qty</th>\n",
       "      <th>store_id</th>\n",
       "      <th>store_location</th>\n",
       "      <th>product_id</th>\n",
       "      <th>unit_price</th>\n",
       "      <th>product_category</th>\n",
       "      <th>amount</th>\n",
       "    </tr>\n",
       "  </thead>\n",
       "  <tbody>\n",
       "    <tr>\n",
       "      <th>0</th>\n",
       "      <td>1/1/2023</td>\n",
       "      <td>7:06:11</td>\n",
       "      <td>2</td>\n",
       "      <td>5</td>\n",
       "      <td>Lower Manhattan</td>\n",
       "      <td>32</td>\n",
       "      <td>3.0</td>\n",
       "      <td>Coffee</td>\n",
       "      <td>6.0</td>\n",
       "    </tr>\n",
       "    <tr>\n",
       "      <th>1</th>\n",
       "      <td>1/1/2023</td>\n",
       "      <td>7:08:56</td>\n",
       "      <td>2</td>\n",
       "      <td>5</td>\n",
       "      <td>Lower Manhattan</td>\n",
       "      <td>57</td>\n",
       "      <td>3.1</td>\n",
       "      <td>Tea</td>\n",
       "      <td>6.2</td>\n",
       "    </tr>\n",
       "    <tr>\n",
       "      <th>2</th>\n",
       "      <td>1/1/2023</td>\n",
       "      <td>7:14:04</td>\n",
       "      <td>2</td>\n",
       "      <td>5</td>\n",
       "      <td>Lower Manhattan</td>\n",
       "      <td>59</td>\n",
       "      <td>4.5</td>\n",
       "      <td>Drinking Chocolate</td>\n",
       "      <td>9.0</td>\n",
       "    </tr>\n",
       "    <tr>\n",
       "      <th>3</th>\n",
       "      <td>1/1/2023</td>\n",
       "      <td>7:20:24</td>\n",
       "      <td>1</td>\n",
       "      <td>5</td>\n",
       "      <td>Lower Manhattan</td>\n",
       "      <td>22</td>\n",
       "      <td>2.0</td>\n",
       "      <td>Coffee</td>\n",
       "      <td>2.0</td>\n",
       "    </tr>\n",
       "    <tr>\n",
       "      <th>4</th>\n",
       "      <td>1/1/2023</td>\n",
       "      <td>7:22:41</td>\n",
       "      <td>2</td>\n",
       "      <td>5</td>\n",
       "      <td>Lower Manhattan</td>\n",
       "      <td>57</td>\n",
       "      <td>3.1</td>\n",
       "      <td>Tea</td>\n",
       "      <td>6.2</td>\n",
       "    </tr>\n",
       "  </tbody>\n",
       "</table>\n",
       "</div>"
      ],
      "text/plain": [
       "  transaction_date transaction_time  transaction_qty  store_id  \\\n",
       "0         1/1/2023          7:06:11                2         5   \n",
       "1         1/1/2023          7:08:56                2         5   \n",
       "2         1/1/2023          7:14:04                2         5   \n",
       "3         1/1/2023          7:20:24                1         5   \n",
       "4         1/1/2023          7:22:41                2         5   \n",
       "\n",
       "    store_location  product_id  unit_price    product_category  amount  \n",
       "0  Lower Manhattan          32         3.0              Coffee     6.0  \n",
       "1  Lower Manhattan          57         3.1                 Tea     6.2  \n",
       "2  Lower Manhattan          59         4.5  Drinking Chocolate     9.0  \n",
       "3  Lower Manhattan          22         2.0              Coffee     2.0  \n",
       "4  Lower Manhattan          57         3.1                 Tea     6.2  "
      ]
     },
     "execution_count": 8,
     "metadata": {},
     "output_type": "execute_result"
    }
   ],
   "source": [
    "#displaying first 5 values in file\n",
    "df.head(5)"
   ]
  },
  {
   "cell_type": "code",
   "execution_count": 9,
   "id": "de78afe4-716d-43e5-80fa-cc8a2451a811",
   "metadata": {},
   "outputs": [
    {
     "data": {
      "text/html": [
       "<div>\n",
       "<style scoped>\n",
       "    .dataframe tbody tr th:only-of-type {\n",
       "        vertical-align: middle;\n",
       "    }\n",
       "\n",
       "    .dataframe tbody tr th {\n",
       "        vertical-align: top;\n",
       "    }\n",
       "\n",
       "    .dataframe thead th {\n",
       "        text-align: right;\n",
       "    }\n",
       "</style>\n",
       "<table border=\"1\" class=\"dataframe\">\n",
       "  <thead>\n",
       "    <tr style=\"text-align: right;\">\n",
       "      <th></th>\n",
       "      <th>transaction_date</th>\n",
       "      <th>transaction_time</th>\n",
       "      <th>transaction_qty</th>\n",
       "      <th>store_id</th>\n",
       "      <th>store_location</th>\n",
       "      <th>product_id</th>\n",
       "      <th>unit_price</th>\n",
       "      <th>product_category</th>\n",
       "      <th>amount</th>\n",
       "    </tr>\n",
       "  </thead>\n",
       "  <tbody>\n",
       "    <tr>\n",
       "      <th>149111</th>\n",
       "      <td>6/30/2023</td>\n",
       "      <td>20:18:41</td>\n",
       "      <td>2</td>\n",
       "      <td>8</td>\n",
       "      <td>Hell's Kitchen</td>\n",
       "      <td>44</td>\n",
       "      <td>2.50</td>\n",
       "      <td>Tea</td>\n",
       "      <td>5.00</td>\n",
       "    </tr>\n",
       "    <tr>\n",
       "      <th>149112</th>\n",
       "      <td>6/30/2023</td>\n",
       "      <td>20:25:10</td>\n",
       "      <td>2</td>\n",
       "      <td>8</td>\n",
       "      <td>Hell's Kitchen</td>\n",
       "      <td>49</td>\n",
       "      <td>3.00</td>\n",
       "      <td>Tea</td>\n",
       "      <td>6.00</td>\n",
       "    </tr>\n",
       "    <tr>\n",
       "      <th>149113</th>\n",
       "      <td>6/30/2023</td>\n",
       "      <td>20:31:34</td>\n",
       "      <td>1</td>\n",
       "      <td>8</td>\n",
       "      <td>Hell's Kitchen</td>\n",
       "      <td>45</td>\n",
       "      <td>3.00</td>\n",
       "      <td>Tea</td>\n",
       "      <td>3.00</td>\n",
       "    </tr>\n",
       "    <tr>\n",
       "      <th>149114</th>\n",
       "      <td>6/30/2023</td>\n",
       "      <td>20:57:19</td>\n",
       "      <td>1</td>\n",
       "      <td>8</td>\n",
       "      <td>Hell's Kitchen</td>\n",
       "      <td>40</td>\n",
       "      <td>3.75</td>\n",
       "      <td>Coffee</td>\n",
       "      <td>3.75</td>\n",
       "    </tr>\n",
       "    <tr>\n",
       "      <th>149115</th>\n",
       "      <td>6/30/2023</td>\n",
       "      <td>20:57:19</td>\n",
       "      <td>2</td>\n",
       "      <td>8</td>\n",
       "      <td>Hell's Kitchen</td>\n",
       "      <td>64</td>\n",
       "      <td>0.80</td>\n",
       "      <td>Flavours</td>\n",
       "      <td>1.60</td>\n",
       "    </tr>\n",
       "  </tbody>\n",
       "</table>\n",
       "</div>"
      ],
      "text/plain": [
       "       transaction_date transaction_time  transaction_qty  store_id  \\\n",
       "149111        6/30/2023         20:18:41                2         8   \n",
       "149112        6/30/2023         20:25:10                2         8   \n",
       "149113        6/30/2023         20:31:34                1         8   \n",
       "149114        6/30/2023         20:57:19                1         8   \n",
       "149115        6/30/2023         20:57:19                2         8   \n",
       "\n",
       "        store_location  product_id  unit_price product_category  amount  \n",
       "149111  Hell's Kitchen          44        2.50              Tea    5.00  \n",
       "149112  Hell's Kitchen          49        3.00              Tea    6.00  \n",
       "149113  Hell's Kitchen          45        3.00              Tea    3.00  \n",
       "149114  Hell's Kitchen          40        3.75           Coffee    3.75  \n",
       "149115  Hell's Kitchen          64        0.80         Flavours    1.60  "
      ]
     },
     "execution_count": 9,
     "metadata": {},
     "output_type": "execute_result"
    }
   ],
   "source": [
    "#displaying last 5 values in file\n",
    "df.tail(5)"
   ]
  },
  {
   "cell_type": "code",
   "execution_count": 10,
   "id": "838be816-f605-4d5d-8fc0-4550d4406c0d",
   "metadata": {},
   "outputs": [
    {
     "name": "stdout",
     "output_type": "stream",
     "text": [
      "Total Amount  : 698812.33\n",
      "Total Qantity : 214470\n"
     ]
    }
   ],
   "source": [
    "#Total amount and quantity\n",
    "total_amount=df['amount'].sum()\n",
    "total_qty=df['transaction_qty'].sum()\n",
    "\n",
    "print(f\"Total Amount  : {round(total_amount,2)}\")\n",
    "print(f\"Total Qantity : {total_qty}\")"
   ]
  },
  {
   "cell_type": "code",
   "execution_count": 11,
   "id": "4d8fa947-9dd4-48f6-b0c0-7a5306ac8e18",
   "metadata": {},
   "outputs": [
    {
     "data": {
      "text/html": [
       "<div>\n",
       "<style scoped>\n",
       "    .dataframe tbody tr th:only-of-type {\n",
       "        vertical-align: middle;\n",
       "    }\n",
       "\n",
       "    .dataframe tbody tr th {\n",
       "        vertical-align: top;\n",
       "    }\n",
       "\n",
       "    .dataframe thead th {\n",
       "        text-align: right;\n",
       "    }\n",
       "</style>\n",
       "<table border=\"1\" class=\"dataframe\">\n",
       "  <thead>\n",
       "    <tr style=\"text-align: right;\">\n",
       "      <th></th>\n",
       "      <th>store_location</th>\n",
       "      <th>count</th>\n",
       "    </tr>\n",
       "  </thead>\n",
       "  <tbody>\n",
       "    <tr>\n",
       "      <th>0</th>\n",
       "      <td>Hell's Kitchen</td>\n",
       "      <td>50735</td>\n",
       "    </tr>\n",
       "    <tr>\n",
       "      <th>1</th>\n",
       "      <td>Astoria</td>\n",
       "      <td>50599</td>\n",
       "    </tr>\n",
       "    <tr>\n",
       "      <th>2</th>\n",
       "      <td>Lower Manhattan</td>\n",
       "      <td>47782</td>\n",
       "    </tr>\n",
       "  </tbody>\n",
       "</table>\n",
       "</div>"
      ],
      "text/plain": [
       "    store_location  count\n",
       "0   Hell's Kitchen  50735\n",
       "1          Astoria  50599\n",
       "2  Lower Manhattan  47782"
      ]
     },
     "execution_count": 11,
     "metadata": {},
     "output_type": "execute_result"
    }
   ],
   "source": [
    "#Count of Stores in each locations\n",
    "stores=df['store_location'].value_counts().reset_index()\n",
    "stores"
   ]
  },
  {
   "cell_type": "code",
   "execution_count": 12,
   "id": "c13a6a3f-3d45-4133-b7b2-bfd015f909a4",
   "metadata": {},
   "outputs": [
    {
     "data": {
      "image/png": "[encoded data removed]",
      "text/plain": [
       "<Figure size 400x300 with 1 Axes>"
      ]
     },
     "metadata": {},
     "output_type": "display_data"
    }
   ],
   "source": [
    "plt.figure(figsize=(4,3))\n",
    "plt.bar(stores['store_location'],stores['count'],width=0.3)\n",
    "plt.xlabel('Store location',color='red')\n",
    "plt.ylabel('Store counts',color='red')\n",
    "plt.grid(axis='y')\n",
    "plt.show()"
   ]
  },
  {
   "cell_type": "code",
   "execution_count": 13,
   "id": "d9930976-4eb1-4ba5-92bb-6d8832d61eac",
   "metadata": {},
   "outputs": [],
   "source": [
    "#creating columns year, month, day\n",
    "df['transaction_date']=pd.to_datetime(df['transaction_date'])\n",
    "df['year']=df['transaction_date'].dt.year\n",
    "df['month']=df['transaction_date'].dt.month\n",
    "df['day']=df['transaction_date'].dt.day"
   ]
  },
  {
   "cell_type": "code",
   "execution_count": 14,
   "id": "8eb154fb-2d45-442c-9a82-481c32aff130",
   "metadata": {},
   "outputs": [],
   "source": [
    "#creating column hour\n",
    "def hour(x):\n",
    "    x=x.split(':')\n",
    "    x=x[0]\n",
    "    return x\n",
    "df['hour']=df['transaction_time'].apply(hour)"
   ]
  },
  {
   "cell_type": "code",
   "execution_count": 15,
   "id": "e6d899ab-68de-4157-a311-4ad82ddd586b",
   "metadata": {},
   "outputs": [],
   "source": [
    "#removing columns transaction_date, transaction_time\n",
    "df.drop(['transaction_date','transaction_time'],axis=1,inplace=True)"
   ]
  },
  {
   "cell_type": "code",
   "execution_count": 16,
   "id": "6d99fa58-0a22-434c-8f6b-c62e43e61f75",
   "metadata": {},
   "outputs": [
    {
     "data": {
      "text/html": [
       "<div>\n",
       "<style scoped>\n",
       "    .dataframe tbody tr th:only-of-type {\n",
       "        vertical-align: middle;\n",
       "    }\n",
       "\n",
       "    .dataframe tbody tr th {\n",
       "        vertical-align: top;\n",
       "    }\n",
       "\n",
       "    .dataframe thead th {\n",
       "        text-align: right;\n",
       "    }\n",
       "</style>\n",
       "<table border=\"1\" class=\"dataframe\">\n",
       "  <thead>\n",
       "    <tr style=\"text-align: right;\">\n",
       "      <th></th>\n",
       "      <th>transaction_qty</th>\n",
       "      <th>store_id</th>\n",
       "      <th>store_location</th>\n",
       "      <th>product_id</th>\n",
       "      <th>unit_price</th>\n",
       "      <th>product_category</th>\n",
       "      <th>amount</th>\n",
       "      <th>year</th>\n",
       "      <th>month</th>\n",
       "      <th>day</th>\n",
       "      <th>hour</th>\n",
       "    </tr>\n",
       "  </thead>\n",
       "  <tbody>\n",
       "    <tr>\n",
       "      <th>0</th>\n",
       "      <td>2</td>\n",
       "      <td>5</td>\n",
       "      <td>Lower Manhattan</td>\n",
       "      <td>32</td>\n",
       "      <td>3.0</td>\n",
       "      <td>Coffee</td>\n",
       "      <td>6.0</td>\n",
       "      <td>2023</td>\n",
       "      <td>1</td>\n",
       "      <td>1</td>\n",
       "      <td>7</td>\n",
       "    </tr>\n",
       "    <tr>\n",
       "      <th>1</th>\n",
       "      <td>2</td>\n",
       "      <td>5</td>\n",
       "      <td>Lower Manhattan</td>\n",
       "      <td>57</td>\n",
       "      <td>3.1</td>\n",
       "      <td>Tea</td>\n",
       "      <td>6.2</td>\n",
       "      <td>2023</td>\n",
       "      <td>1</td>\n",
       "      <td>1</td>\n",
       "      <td>7</td>\n",
       "    </tr>\n",
       "    <tr>\n",
       "      <th>2</th>\n",
       "      <td>2</td>\n",
       "      <td>5</td>\n",
       "      <td>Lower Manhattan</td>\n",
       "      <td>59</td>\n",
       "      <td>4.5</td>\n",
       "      <td>Drinking Chocolate</td>\n",
       "      <td>9.0</td>\n",
       "      <td>2023</td>\n",
       "      <td>1</td>\n",
       "      <td>1</td>\n",
       "      <td>7</td>\n",
       "    </tr>\n",
       "    <tr>\n",
       "      <th>3</th>\n",
       "      <td>1</td>\n",
       "      <td>5</td>\n",
       "      <td>Lower Manhattan</td>\n",
       "      <td>22</td>\n",
       "      <td>2.0</td>\n",
       "      <td>Coffee</td>\n",
       "      <td>2.0</td>\n",
       "      <td>2023</td>\n",
       "      <td>1</td>\n",
       "      <td>1</td>\n",
       "      <td>7</td>\n",
       "    </tr>\n",
       "    <tr>\n",
       "      <th>4</th>\n",
       "      <td>2</td>\n",
       "      <td>5</td>\n",
       "      <td>Lower Manhattan</td>\n",
       "      <td>57</td>\n",
       "      <td>3.1</td>\n",
       "      <td>Tea</td>\n",
       "      <td>6.2</td>\n",
       "      <td>2023</td>\n",
       "      <td>1</td>\n",
       "      <td>1</td>\n",
       "      <td>7</td>\n",
       "    </tr>\n",
       "  </tbody>\n",
       "</table>\n",
       "</div>"
      ],
      "text/plain": [
       "   transaction_qty  store_id   store_location  product_id  unit_price  \\\n",
       "0                2         5  Lower Manhattan          32         3.0   \n",
       "1                2         5  Lower Manhattan          57         3.1   \n",
       "2                2         5  Lower Manhattan          59         4.5   \n",
       "3                1         5  Lower Manhattan          22         2.0   \n",
       "4                2         5  Lower Manhattan          57         3.1   \n",
       "\n",
       "     product_category  amount  year  month  day hour  \n",
       "0              Coffee     6.0  2023      1    1    7  \n",
       "1                 Tea     6.2  2023      1    1    7  \n",
       "2  Drinking Chocolate     9.0  2023      1    1    7  \n",
       "3              Coffee     2.0  2023      1    1    7  \n",
       "4                 Tea     6.2  2023      1    1    7  "
      ]
     },
     "execution_count": 16,
     "metadata": {},
     "output_type": "execute_result"
    }
   ],
   "source": [
    "#first 5 rows\n",
    "df.head(5)"
   ]
  },
  {
   "cell_type": "code",
   "execution_count": 17,
   "id": "49dfaf81-7534-48e7-a03b-9daae95007d9",
   "metadata": {},
   "outputs": [
    {
     "data": {
      "text/html": [
       "<div>\n",
       "<style scoped>\n",
       "    .dataframe tbody tr th:only-of-type {\n",
       "        vertical-align: middle;\n",
       "    }\n",
       "\n",
       "    .dataframe tbody tr th {\n",
       "        vertical-align: top;\n",
       "    }\n",
       "\n",
       "    .dataframe thead th {\n",
       "        text-align: right;\n",
       "    }\n",
       "</style>\n",
       "<table border=\"1\" class=\"dataframe\">\n",
       "  <thead>\n",
       "    <tr style=\"text-align: right;\">\n",
       "      <th></th>\n",
       "      <th>store_location</th>\n",
       "      <th>amount</th>\n",
       "    </tr>\n",
       "  </thead>\n",
       "  <tbody>\n",
       "    <tr>\n",
       "      <th>0</th>\n",
       "      <td>Astoria</td>\n",
       "      <td>232243.91</td>\n",
       "    </tr>\n",
       "    <tr>\n",
       "      <th>1</th>\n",
       "      <td>Hell's Kitchen</td>\n",
       "      <td>236511.17</td>\n",
       "    </tr>\n",
       "    <tr>\n",
       "      <th>2</th>\n",
       "      <td>Lower Manhattan</td>\n",
       "      <td>230057.25</td>\n",
       "    </tr>\n",
       "  </tbody>\n",
       "</table>\n",
       "</div>"
      ],
      "text/plain": [
       "    store_location     amount\n",
       "0          Astoria  232243.91\n",
       "1   Hell's Kitchen  236511.17\n",
       "2  Lower Manhattan  230057.25"
      ]
     },
     "execution_count": 17,
     "metadata": {},
     "output_type": "execute_result"
    }
   ],
   "source": [
    "#total amount by stores in each location\n",
    "store_amount=df.groupby('store_location')[['amount']].sum().reset_index()\n",
    "store_amount"
   ]
  },
  {
   "cell_type": "code",
   "execution_count": 18,
   "id": "f12c5680-6d6a-4953-924d-777b852dc1b7",
   "metadata": {},
   "outputs": [
    {
     "data": {
      "image/png": "[encoded data removed]",
      "text/plain": [
       "<Figure size 400x300 with 1 Axes>"
      ]
     },
     "metadata": {},
     "output_type": "display_data"
    }
   ],
   "source": [
    "plt.figure(figsize=(4,3))\n",
    "plt.bar(store_amount['store_location'],store_amount['amount'],width=0.4)\n",
    "plt.grid(axis='y')\n",
    "plt.xlabel('Store_locations',color='red')\n",
    "plt.ylabel('Total Amount',color='red')\n",
    "plt.show()"
   ]
  },
  {
   "cell_type": "code",
   "execution_count": 19,
   "id": "866f4c39-a2a1-439c-a8da-ea1b03e26dad",
   "metadata": {},
   "outputs": [
    {
     "data": {
      "text/html": [
       "<div>\n",
       "<style scoped>\n",
       "    .dataframe tbody tr th:only-of-type {\n",
       "        vertical-align: middle;\n",
       "    }\n",
       "\n",
       "    .dataframe tbody tr th {\n",
       "        vertical-align: top;\n",
       "    }\n",
       "\n",
       "    .dataframe thead th {\n",
       "        text-align: right;\n",
       "    }\n",
       "</style>\n",
       "<table border=\"1\" class=\"dataframe\">\n",
       "  <thead>\n",
       "    <tr style=\"text-align: right;\">\n",
       "      <th></th>\n",
       "      <th>product_category</th>\n",
       "      <th>amount</th>\n",
       "    </tr>\n",
       "  </thead>\n",
       "  <tbody>\n",
       "    <tr>\n",
       "      <th>0</th>\n",
       "      <td>Bakery</td>\n",
       "      <td>82315.64</td>\n",
       "    </tr>\n",
       "    <tr>\n",
       "      <th>1</th>\n",
       "      <td>Branded</td>\n",
       "      <td>13607.00</td>\n",
       "    </tr>\n",
       "    <tr>\n",
       "      <th>2</th>\n",
       "      <td>Coffee</td>\n",
       "      <td>269952.45</td>\n",
       "    </tr>\n",
       "    <tr>\n",
       "      <th>3</th>\n",
       "      <td>Coffee beans</td>\n",
       "      <td>40085.25</td>\n",
       "    </tr>\n",
       "    <tr>\n",
       "      <th>4</th>\n",
       "      <td>Drinking Chocolate</td>\n",
       "      <td>72416.00</td>\n",
       "    </tr>\n",
       "    <tr>\n",
       "      <th>5</th>\n",
       "      <td>Flavours</td>\n",
       "      <td>8408.80</td>\n",
       "    </tr>\n",
       "    <tr>\n",
       "      <th>6</th>\n",
       "      <td>Loose Tea</td>\n",
       "      <td>11213.60</td>\n",
       "    </tr>\n",
       "    <tr>\n",
       "      <th>7</th>\n",
       "      <td>Packaged Chocolate</td>\n",
       "      <td>4407.64</td>\n",
       "    </tr>\n",
       "    <tr>\n",
       "      <th>8</th>\n",
       "      <td>Tea</td>\n",
       "      <td>196405.95</td>\n",
       "    </tr>\n",
       "  </tbody>\n",
       "</table>\n",
       "</div>"
      ],
      "text/plain": [
       "     product_category     amount\n",
       "0              Bakery   82315.64\n",
       "1             Branded   13607.00\n",
       "2              Coffee  269952.45\n",
       "3        Coffee beans   40085.25\n",
       "4  Drinking Chocolate   72416.00\n",
       "5            Flavours    8408.80\n",
       "6           Loose Tea   11213.60\n",
       "7  Packaged Chocolate    4407.64\n",
       "8                 Tea  196405.95"
      ]
     },
     "execution_count": 19,
     "metadata": {},
     "output_type": "execute_result"
    }
   ],
   "source": [
    "#total amount by each category of products\n",
    "amountByProduct=df.groupby('product_category')[['amount']].sum().reset_index()\n",
    "amountByProduct"
   ]
  },
  {
   "cell_type": "code",
   "execution_count": 20,
   "id": "db48fc01-793c-41b6-9d9f-a6d6d41484de",
   "metadata": {},
   "outputs": [
    {
     "data": {
      "image/png": "[encoded data removed]",
      "text/plain": [
       "<Figure size 500x400 with 1 Axes>"
      ]
     },
     "metadata": {},
     "output_type": "display_data"
    }
   ],
   "source": [
    "#bar chart of amount by each category of products\n",
    "plt.figure(figsize=(5,4))\n",
    "plt.bar(amountByProduct['product_category'],amountByProduct['amount'])\n",
    "plt.plot(amountByProduct['amount'],color='red',marker='.')\n",
    "plt.xticks(rotation=90)\n",
    "plt.grid(axis='y')\n",
    "plt.xlabel('Product',color='red')\n",
    "plt.ylabel('Amount',color='red')\n",
    "plt.show()"
   ]
  },
  {
   "cell_type": "code",
   "execution_count": 21,
   "id": "2e869deb-8aab-4b2d-afc2-ce46ff1fe899",
   "metadata": {},
   "outputs": [
    {
     "data": {
      "image/png": "[encoded data removed]",
      "text/plain": [
       "<Figure size 640x480 with 1 Axes>"
      ]
     },
     "metadata": {},
     "output_type": "display_data"
    }
   ],
   "source": [
    "#pie chart of amount by each category of products\n",
    "plt.pie(amountByProduct['amount'])\n",
    "plt.legend(labels=amountByProduct['product_category'])\n",
    "plt.show()"
   ]
  },
  {
   "cell_type": "code",
   "execution_count": 22,
   "id": "660994eb-5089-49bb-9467-5af21f7def2a",
   "metadata": {},
   "outputs": [
    {
     "data": {
      "text/html": [
       "<div>\n",
       "<style scoped>\n",
       "    .dataframe tbody tr th:only-of-type {\n",
       "        vertical-align: middle;\n",
       "    }\n",
       "\n",
       "    .dataframe tbody tr th {\n",
       "        vertical-align: top;\n",
       "    }\n",
       "\n",
       "    .dataframe thead th {\n",
       "        text-align: right;\n",
       "    }\n",
       "</style>\n",
       "<table border=\"1\" class=\"dataframe\">\n",
       "  <thead>\n",
       "    <tr style=\"text-align: right;\">\n",
       "      <th></th>\n",
       "      <th>month</th>\n",
       "      <th>transaction_qty</th>\n",
       "      <th>amount</th>\n",
       "    </tr>\n",
       "  </thead>\n",
       "  <tbody>\n",
       "    <tr>\n",
       "      <th>0</th>\n",
       "      <td>1</td>\n",
       "      <td>24870</td>\n",
       "      <td>81677.74</td>\n",
       "    </tr>\n",
       "    <tr>\n",
       "      <th>1</th>\n",
       "      <td>2</td>\n",
       "      <td>23550</td>\n",
       "      <td>76145.19</td>\n",
       "    </tr>\n",
       "    <tr>\n",
       "      <th>2</th>\n",
       "      <td>3</td>\n",
       "      <td>30406</td>\n",
       "      <td>98834.68</td>\n",
       "    </tr>\n",
       "    <tr>\n",
       "      <th>3</th>\n",
       "      <td>4</td>\n",
       "      <td>36469</td>\n",
       "      <td>118941.08</td>\n",
       "    </tr>\n",
       "    <tr>\n",
       "      <th>4</th>\n",
       "      <td>5</td>\n",
       "      <td>48233</td>\n",
       "      <td>156727.76</td>\n",
       "    </tr>\n",
       "    <tr>\n",
       "      <th>5</th>\n",
       "      <td>6</td>\n",
       "      <td>50942</td>\n",
       "      <td>166485.88</td>\n",
       "    </tr>\n",
       "  </tbody>\n",
       "</table>\n",
       "</div>"
      ],
      "text/plain": [
       "   month  transaction_qty     amount\n",
       "0      1            24870   81677.74\n",
       "1      2            23550   76145.19\n",
       "2      3            30406   98834.68\n",
       "3      4            36469  118941.08\n",
       "4      5            48233  156727.76\n",
       "5      6            50942  166485.88"
      ]
     },
     "execution_count": 22,
     "metadata": {},
     "output_type": "execute_result"
    }
   ],
   "source": [
    "#quantity sold and amount on each month\n",
    "salesByMonth=df.groupby('month')[['transaction_qty','amount']].sum().reset_index()\n",
    "salesByMonth"
   ]
  },
  {
   "cell_type": "code",
   "execution_count": 23,
   "id": "4bae2f81-1230-4733-a693-0e87887e3713",
   "metadata": {},
   "outputs": [
    {
     "data": {
      "image/png": "[encoded data removed]",
      "text/plain": [
       "<Figure size 500x300 with 1 Axes>"
      ]
     },
     "metadata": {},
     "output_type": "display_data"
    }
   ],
   "source": [
    "c=np.arange(len(salesByMonth['month']))\n",
    "plt.figure(figsize=(5,3))\n",
    "plt.xticks(c,salesByMonth['month'])\n",
    "plt.bar(c,salesByMonth['transaction_qty'],width=0.5,color='#34CBC4',label='Quantity')\n",
    "plt.bar(c+0.25,salesByMonth['amount'],width=0.5,color='#8B1AE5',label='Amount')\n",
    "plt.plot(salesByMonth['transaction_qty'],color='#CB343B',marker='.')\n",
    "plt.plot(salesByMonth['amount'],color='#86CB34',marker='.')\n",
    "plt.xlabel('Month',color='red')\n",
    "plt.ylabel('Amount and Quantity',color='red')\n",
    "plt.legend()\n",
    "plt.show()"
   ]
  },
  {
   "cell_type": "code",
   "execution_count": 24,
   "id": "b56c4ed5-1ffe-4dd5-9050-cc06f825547e",
   "metadata": {},
   "outputs": [
    {
     "data": {
      "text/html": [
       "<div>\n",
       "<style scoped>\n",
       "    .dataframe tbody tr th:only-of-type {\n",
       "        vertical-align: middle;\n",
       "    }\n",
       "\n",
       "    .dataframe tbody tr th {\n",
       "        vertical-align: top;\n",
       "    }\n",
       "\n",
       "    .dataframe thead th {\n",
       "        text-align: right;\n",
       "    }\n",
       "</style>\n",
       "<table border=\"1\" class=\"dataframe\">\n",
       "  <thead>\n",
       "    <tr style=\"text-align: right;\">\n",
       "      <th></th>\n",
       "      <th>hour</th>\n",
       "      <th>transaction_qty</th>\n",
       "      <th>amount</th>\n",
       "    </tr>\n",
       "  </thead>\n",
       "  <tbody>\n",
       "    <tr>\n",
       "      <th>0</th>\n",
       "      <td>10</td>\n",
       "      <td>26713</td>\n",
       "      <td>88673.39</td>\n",
       "    </tr>\n",
       "    <tr>\n",
       "      <th>1</th>\n",
       "      <td>9</td>\n",
       "      <td>25370</td>\n",
       "      <td>85169.53</td>\n",
       "    </tr>\n",
       "    <tr>\n",
       "      <th>2</th>\n",
       "      <td>8</td>\n",
       "      <td>25197</td>\n",
       "      <td>82699.87</td>\n",
       "    </tr>\n",
       "    <tr>\n",
       "      <th>3</th>\n",
       "      <td>7</td>\n",
       "      <td>19449</td>\n",
       "      <td>63526.47</td>\n",
       "    </tr>\n",
       "    <tr>\n",
       "      <th>4</th>\n",
       "      <td>11</td>\n",
       "      <td>14035</td>\n",
       "      <td>46319.14</td>\n",
       "    </tr>\n",
       "  </tbody>\n",
       "</table>\n",
       "</div>"
      ],
      "text/plain": [
       "  hour  transaction_qty    amount\n",
       "0   10            26713  88673.39\n",
       "1    9            25370  85169.53\n",
       "2    8            25197  82699.87\n",
       "3    7            19449  63526.47\n",
       "4   11            14035  46319.14"
      ]
     },
     "execution_count": 24,
     "metadata": {},
     "output_type": "execute_result"
    }
   ],
   "source": [
    "amountByhour=df.groupby('hour')[['transaction_qty','amount']].sum()\n",
    "highestSalesTime=amountByhour.nlargest(5,'transaction_qty').reset_index()\n",
    "highestSalesTime"
   ]
  },
  {
   "cell_type": "code",
   "execution_count": 25,
   "id": "e83d9b4d-bae4-48bf-8a40-de4e2d3a55da",
   "metadata": {},
   "outputs": [
    {
     "data": {
      "image/png": "[encoded data removed]",
      "text/plain": [
       "<Figure size 640x480 with 1 Axes>"
      ]
     },
     "metadata": {},
     "output_type": "display_data"
    }
   ],
   "source": [
    "c=np.arange(len(highestSalesTime['hour']))\n",
    "plt.xticks(c,highestSalesTime['hour']+' am')\n",
    "plt.bar(c,highestSalesTime['transaction_qty'],width=0.4,label='Qantity')\n",
    "plt.bar(c+0.3,highestSalesTime['amount'],width=0.4,label='Amount')\n",
    "plt.xlabel('Time',color='red')\n",
    "plt.ylabel('Amount and Quantity',color='red')\n",
    "plt.legend()\n",
    "plt.show()"
   ]
  },
  {
   "cell_type": "code",
   "execution_count": 26,
   "id": "9759cbb1-6c41-488b-b65a-87933a4fc576",
   "metadata": {},
   "outputs": [],
   "source": [
    "#stores in location : \"Astoria\"\n",
    "data1=df.where(df['store_location']=='Astoria')\n",
    "data1.dropna(inplace=True)"
   ]
  },
  {
   "cell_type": "code",
   "execution_count": 27,
   "id": "7e4dc0f0-369b-4d93-a25e-4bcffb9ec513",
   "metadata": {},
   "outputs": [
    {
     "data": {
      "text/html": [
       "<div>\n",
       "<style scoped>\n",
       "    .dataframe tbody tr th:only-of-type {\n",
       "        vertical-align: middle;\n",
       "    }\n",
       "\n",
       "    .dataframe tbody tr th {\n",
       "        vertical-align: top;\n",
       "    }\n",
       "\n",
       "    .dataframe thead th {\n",
       "        text-align: right;\n",
       "    }\n",
       "</style>\n",
       "<table border=\"1\" class=\"dataframe\">\n",
       "  <thead>\n",
       "    <tr style=\"text-align: right;\">\n",
       "      <th></th>\n",
       "      <th>product_category</th>\n",
       "      <th>transaction_qty</th>\n",
       "      <th>amount</th>\n",
       "    </tr>\n",
       "  </thead>\n",
       "  <tbody>\n",
       "    <tr>\n",
       "      <th>0</th>\n",
       "      <td>Bakery</td>\n",
       "      <td>7496.0</td>\n",
       "      <td>26599.75</td>\n",
       "    </tr>\n",
       "    <tr>\n",
       "      <th>1</th>\n",
       "      <td>Branded</td>\n",
       "      <td>279.0</td>\n",
       "      <td>5457.00</td>\n",
       "    </tr>\n",
       "    <tr>\n",
       "      <th>2</th>\n",
       "      <td>Coffee</td>\n",
       "      <td>29655.0</td>\n",
       "      <td>89744.30</td>\n",
       "    </tr>\n",
       "    <tr>\n",
       "      <th>3</th>\n",
       "      <td>Coffee beans</td>\n",
       "      <td>502.0</td>\n",
       "      <td>10219.20</td>\n",
       "    </tr>\n",
       "    <tr>\n",
       "      <th>4</th>\n",
       "      <td>Drinking Chocolate</td>\n",
       "      <td>6351.0</td>\n",
       "      <td>26335.25</td>\n",
       "    </tr>\n",
       "    <tr>\n",
       "      <th>5</th>\n",
       "      <td>Flavours</td>\n",
       "      <td>2206.0</td>\n",
       "      <td>1764.80</td>\n",
       "    </tr>\n",
       "    <tr>\n",
       "      <th>6</th>\n",
       "      <td>Loose Tea</td>\n",
       "      <td>344.0</td>\n",
       "      <td>3194.00</td>\n",
       "    </tr>\n",
       "    <tr>\n",
       "      <th>7</th>\n",
       "      <td>Packaged Chocolate</td>\n",
       "      <td>110.0</td>\n",
       "      <td>1089.71</td>\n",
       "    </tr>\n",
       "    <tr>\n",
       "      <th>8</th>\n",
       "      <td>Tea</td>\n",
       "      <td>24048.0</td>\n",
       "      <td>67839.90</td>\n",
       "    </tr>\n",
       "  </tbody>\n",
       "</table>\n",
       "</div>"
      ],
      "text/plain": [
       "     product_category  transaction_qty    amount\n",
       "0              Bakery           7496.0  26599.75\n",
       "1             Branded            279.0   5457.00\n",
       "2              Coffee          29655.0  89744.30\n",
       "3        Coffee beans            502.0  10219.20\n",
       "4  Drinking Chocolate           6351.0  26335.25\n",
       "5            Flavours           2206.0   1764.80\n",
       "6           Loose Tea            344.0   3194.00\n",
       "7  Packaged Chocolate            110.0   1089.71\n",
       "8                 Tea          24048.0  67839.90"
      ]
     },
     "execution_count": 27,
     "metadata": {},
     "output_type": "execute_result"
    }
   ],
   "source": [
    "#amount and quantity by product category at Astoria\n",
    "amountByProduct=data1.groupby('product_category')[['transaction_qty','amount']].sum().reset_index()\n",
    "amountByProduct"
   ]
  },
  {
   "cell_type": "code",
   "execution_count": 28,
   "id": "15e5d841-3ecc-4191-865a-877e405dd96d",
   "metadata": {},
   "outputs": [
    {
     "data": {
      "image/png": "[encoded data removed]",
      "text/plain": [
       "<Figure size 640x480 with 1 Axes>"
      ]
     },
     "metadata": {},
     "output_type": "display_data"
    }
   ],
   "source": [
    "c=np.arange(len(amountByProduct['product_category']))\n",
    "plt.xticks(c,amountByProduct['product_category'],rotation=90)\n",
    "plt.bar(c,amountByProduct['transaction_qty'],width=0.5,label='Quantity')\n",
    "plt.bar(c+0.3,amountByProduct['amount'],width=0.5,label='Amount')\n",
    "plt.xlabel('Product category',color='red')\n",
    "plt.ylabel('Amount and Quantity',color='red')\n",
    "plt.legend()\n",
    "plt.show()"
   ]
  },
  {
   "cell_type": "code",
   "execution_count": 29,
   "id": "c05afe2b-c4d1-4378-ab77-5588c0d59e1d",
   "metadata": {},
   "outputs": [],
   "source": [
    "#stores in location : \"Hell's Kitchen\"\n",
    "data2=df.where(df['store_location']==\"Hell's Kitchen\")\n",
    "data2.dropna(inplace=True)"
   ]
  },
  {
   "cell_type": "code",
   "execution_count": 30,
   "id": "c3a92288-56e8-4e5c-a720-f90b214a20ce",
   "metadata": {},
   "outputs": [
    {
     "data": {
      "text/html": [
       "<div>\n",
       "<style scoped>\n",
       "    .dataframe tbody tr th:only-of-type {\n",
       "        vertical-align: middle;\n",
       "    }\n",
       "\n",
       "    .dataframe tbody tr th {\n",
       "        vertical-align: top;\n",
       "    }\n",
       "\n",
       "    .dataframe thead th {\n",
       "        text-align: right;\n",
       "    }\n",
       "</style>\n",
       "<table border=\"1\" class=\"dataframe\">\n",
       "  <thead>\n",
       "    <tr style=\"text-align: right;\">\n",
       "      <th></th>\n",
       "      <th>product_category</th>\n",
       "      <th>transaction_qty</th>\n",
       "      <th>amount</th>\n",
       "    </tr>\n",
       "  </thead>\n",
       "  <tbody>\n",
       "    <tr>\n",
       "      <th>0</th>\n",
       "      <td>Bakery</td>\n",
       "      <td>7678.0</td>\n",
       "      <td>27386.95</td>\n",
       "    </tr>\n",
       "    <tr>\n",
       "      <th>1</th>\n",
       "      <td>Branded</td>\n",
       "      <td>119.0</td>\n",
       "      <td>1942.00</td>\n",
       "    </tr>\n",
       "    <tr>\n",
       "      <th>2</th>\n",
       "      <td>Coffee</td>\n",
       "      <td>30220.0</td>\n",
       "      <td>91222.65</td>\n",
       "    </tr>\n",
       "    <tr>\n",
       "      <th>3</th>\n",
       "      <td>Coffee beans</td>\n",
       "      <td>790.0</td>\n",
       "      <td>18635.10</td>\n",
       "    </tr>\n",
       "    <tr>\n",
       "      <th>4</th>\n",
       "      <td>Drinking Chocolate</td>\n",
       "      <td>5672.0</td>\n",
       "      <td>23586.25</td>\n",
       "    </tr>\n",
       "    <tr>\n",
       "      <th>5</th>\n",
       "      <td>Flavours</td>\n",
       "      <td>3596.0</td>\n",
       "      <td>2876.80</td>\n",
       "    </tr>\n",
       "    <tr>\n",
       "      <th>6</th>\n",
       "      <td>Loose Tea</td>\n",
       "      <td>485.0</td>\n",
       "      <td>4461.35</td>\n",
       "    </tr>\n",
       "    <tr>\n",
       "      <th>7</th>\n",
       "      <td>Packaged Chocolate</td>\n",
       "      <td>197.0</td>\n",
       "      <td>1698.77</td>\n",
       "    </tr>\n",
       "    <tr>\n",
       "      <th>8</th>\n",
       "      <td>Tea</td>\n",
       "      <td>22980.0</td>\n",
       "      <td>64701.30</td>\n",
       "    </tr>\n",
       "  </tbody>\n",
       "</table>\n",
       "</div>"
      ],
      "text/plain": [
       "     product_category  transaction_qty    amount\n",
       "0              Bakery           7678.0  27386.95\n",
       "1             Branded            119.0   1942.00\n",
       "2              Coffee          30220.0  91222.65\n",
       "3        Coffee beans            790.0  18635.10\n",
       "4  Drinking Chocolate           5672.0  23586.25\n",
       "5            Flavours           3596.0   2876.80\n",
       "6           Loose Tea            485.0   4461.35\n",
       "7  Packaged Chocolate            197.0   1698.77\n",
       "8                 Tea          22980.0  64701.30"
      ]
     },
     "execution_count": 30,
     "metadata": {},
     "output_type": "execute_result"
    }
   ],
   "source": [
    "#amount and quantity by product category at Hell's Kitchen\n",
    "amountByProduct=data2.groupby('product_category')[['transaction_qty','amount']].sum().reset_index()\n",
    "amountByProduct"
   ]
  },
  {
   "cell_type": "code",
   "execution_count": 31,
   "id": "41101d71-a321-45f3-a346-eb66084cedae",
   "metadata": {},
   "outputs": [
    {
     "data": {
      "image/png": "[encoded data removed]",
      "text/plain": [
       "<Figure size 640x480 with 1 Axes>"
      ]
     },
     "metadata": {},
     "output_type": "display_data"
    }
   ],
   "source": [
    "c=np.arange(len(amountByProduct['product_category']))\n",
    "plt.xticks(c,amountByProduct['product_category'],rotation=90)\n",
    "plt.bar(c,amountByProduct['transaction_qty'],width=0.5,label='Quantity')\n",
    "plt.bar(c+0.3,amountByProduct['amount'],width=0.5,label='Amount')\n",
    "plt.xlabel('Product category',color='red')\n",
    "plt.ylabel('Amount and Quantity',color='red')\n",
    "plt.legend()\n",
    "plt.show()"
   ]
  },
  {
   "cell_type": "code",
   "execution_count": 32,
   "id": "56283a7a-fee9-40cd-aad2-333eea8fc001",
   "metadata": {},
   "outputs": [],
   "source": [
    "#stores in location : \"Lower Manhattan\"\n",
    "data3=df.where(df['store_location']==\"Lower Manhattan\")\n",
    "data3.dropna(inplace=True)"
   ]
  },
  {
   "cell_type": "code",
   "execution_count": 33,
   "id": "bf8cd0a6-78ed-4215-8a36-c9c934d6306e",
   "metadata": {},
   "outputs": [
    {
     "data": {
      "text/html": [
       "<div>\n",
       "<style scoped>\n",
       "    .dataframe tbody tr th:only-of-type {\n",
       "        vertical-align: middle;\n",
       "    }\n",
       "\n",
       "    .dataframe tbody tr th {\n",
       "        vertical-align: top;\n",
       "    }\n",
       "\n",
       "    .dataframe thead th {\n",
       "        text-align: right;\n",
       "    }\n",
       "</style>\n",
       "<table border=\"1\" class=\"dataframe\">\n",
       "  <thead>\n",
       "    <tr style=\"text-align: right;\">\n",
       "      <th></th>\n",
       "      <th>product_category</th>\n",
       "      <th>transaction_qty</th>\n",
       "      <th>amount</th>\n",
       "    </tr>\n",
       "  </thead>\n",
       "  <tbody>\n",
       "    <tr>\n",
       "      <th>0</th>\n",
       "      <td>Bakery</td>\n",
       "      <td>8040.0</td>\n",
       "      <td>28328.94</td>\n",
       "    </tr>\n",
       "    <tr>\n",
       "      <th>1</th>\n",
       "      <td>Branded</td>\n",
       "      <td>378.0</td>\n",
       "      <td>6208.00</td>\n",
       "    </tr>\n",
       "    <tr>\n",
       "      <th>2</th>\n",
       "      <td>Coffee</td>\n",
       "      <td>29375.0</td>\n",
       "      <td>88985.50</td>\n",
       "    </tr>\n",
       "    <tr>\n",
       "      <th>3</th>\n",
       "      <td>Coffee beans</td>\n",
       "      <td>536.0</td>\n",
       "      <td>11230.95</td>\n",
       "    </tr>\n",
       "    <tr>\n",
       "      <th>4</th>\n",
       "      <td>Drinking Chocolate</td>\n",
       "      <td>5434.0</td>\n",
       "      <td>22494.50</td>\n",
       "    </tr>\n",
       "    <tr>\n",
       "      <th>5</th>\n",
       "      <td>Flavours</td>\n",
       "      <td>4709.0</td>\n",
       "      <td>3767.20</td>\n",
       "    </tr>\n",
       "    <tr>\n",
       "      <th>6</th>\n",
       "      <td>Loose Tea</td>\n",
       "      <td>381.0</td>\n",
       "      <td>3558.25</td>\n",
       "    </tr>\n",
       "    <tr>\n",
       "      <th>7</th>\n",
       "      <td>Packaged Chocolate</td>\n",
       "      <td>180.0</td>\n",
       "      <td>1619.16</td>\n",
       "    </tr>\n",
       "    <tr>\n",
       "      <th>8</th>\n",
       "      <td>Tea</td>\n",
       "      <td>22709.0</td>\n",
       "      <td>63864.75</td>\n",
       "    </tr>\n",
       "  </tbody>\n",
       "</table>\n",
       "</div>"
      ],
      "text/plain": [
       "     product_category  transaction_qty    amount\n",
       "0              Bakery           8040.0  28328.94\n",
       "1             Branded            378.0   6208.00\n",
       "2              Coffee          29375.0  88985.50\n",
       "3        Coffee beans            536.0  11230.95\n",
       "4  Drinking Chocolate           5434.0  22494.50\n",
       "5            Flavours           4709.0   3767.20\n",
       "6           Loose Tea            381.0   3558.25\n",
       "7  Packaged Chocolate            180.0   1619.16\n",
       "8                 Tea          22709.0  63864.75"
      ]
     },
     "execution_count": 33,
     "metadata": {},
     "output_type": "execute_result"
    }
   ],
   "source": [
    "#amount and quantity by product category at Lower Manhattan\n",
    "amountByProduct=data3.groupby('product_category')[['transaction_qty','amount']].sum().reset_index()\n",
    "amountByProduct"
   ]
  },
  {
   "cell_type": "code",
   "execution_count": 34,
   "id": "27a30874-a803-463e-8c8c-c23d968d002c",
   "metadata": {},
   "outputs": [
    {
     "data": {
      "image/png": "[encoded data removed]",
      "text/plain": [
       "<Figure size 640x480 with 1 Axes>"
      ]
     },
     "metadata": {},
     "output_type": "display_data"
    }
   ],
   "source": [
    "c=np.arange(len(amountByProduct['product_category']))\n",
    "plt.xticks(c,amountByProduct['product_category'],rotation=90)\n",
    "plt.bar(c,amountByProduct['transaction_qty'],width=0.5,label='Quantity')\n",
    "plt.bar(c+0.3,amountByProduct['amount'],width=0.5,label='Amount')\n",
    "plt.xlabel('Product category',color='red')\n",
    "plt.ylabel('Amount and Quantity',color='red')\n",
    "plt.legend()\n",
    "plt.show()"
   ]
  },
  {
   "cell_type": "markdown",
   "id": "a454eb12-a3be-46c3-96ab-73af11e5a07b",
   "metadata": {},
   "source": [
    "<h3>Insights from EDA</h3>"
   ]
  },
  {
   "cell_type": "markdown",
   "id": "04dcd00f-de0b-4046-8a5c-5ef74a8f1218",
   "metadata": {},
   "source": [
    "<!DOCTYPE html>\r\n",
    "<html lang=\"en\">\r\n",
    "<head>\r\n",
    "    <meta charset=\"UTF-8\">\r\n",
    "    <meta name=\"viewport\" content=\"width=device-width, initial-scale=1.0\">\r\n",
    "\r\n",
    "</head>\r\n",
    "<body>\r\n",
    "    <ol>\r\n",
    "        <li>Total amount earned is Rs: 6,98,812 </li>\r\n",
    "        <li>Total Quantity sold is 2,14,470 </li>\r\n",
    "        <li>Highest amount is earned through store location Hell's Kitchen and amount earned is Rs: 2,36,511 </li>\r\n",
    "        <li>Highly sold product is coffee and earned Rs: 2,69,952 </li>\r\n",
    "        <li>Least sold product is packaged chocolate and earned Rs: 4,407 </li>\r\n",
    "        <li>Products are highly sold during month of June </li>\r\n",
    "        <li>Products are highly sold during 10am, 9am, 8am, 7am and 11am </li>\r\n",
    "    </ol>\r\n",
    "    <h4>Location : Astoria</h4>\r\n",
    "    <ol>\r\n",
    "        <li>Highly sold product is coffee and earned amount is Rs: 89,744.30 </li>\r\n",
    "        <li>Least sold product is packaged chocolate and earned amount is Rs: 1,089.71</li>\r\n",
    "    </ol>\r\n",
    "    <h4>Location : Hell's Kitchen</h4>\r\n",
    "    <ol>\r\n",
    "        <li>Highly sold product is coffee and earned amount is Rs: 91,222.65 </li>\r\n",
    "        <li>Least sold product is packaged chocolate and earned amount is Rs: 1698.77</li>\r\n",
    "    </ol>\r\n",
    "    <h4>Location : Lower Manhattan</h4>\r\n",
    "    <ol>\r\n",
    "        <li>Highly sold product is coffee and earned amount is Rs: 88,985.50 </li>\r\n",
    "        <li>Least sold product is packaged chocolate and earned amount is Rs: 1619.16</li>\r\n",
    "    </ol>\r\n",
    "</body>\r\n",
    "</html>"
   ]
  }
 ],
 "metadata": {
  "kernelspec": {
   "display_name": "Python 3 (ipykernel)",
   "language": "python",
   "name": "python3"
  },
  "language_info": {
   "codemirror_mode": {
    "name": "ipython",
    "version": 3
   },
   "file_extension": ".py",
   "mimetype": "text/x-python",
   "name": "python",
   "nbconvert_exporter": "python",
   "pygments_lexer": "ipython3",
   "version": "3.12.0"
  }
 },
 "nbformat": 4,
 "nbformat_minor": 5
}
